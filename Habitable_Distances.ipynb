{
 "cells": [
  {
   "cell_type": "code",
   "execution_count": 9,
   "id": "c6797d62-ca46-4bea-bfc7-9e3045dffc0e",
   "metadata": {},
   "outputs": [
    {
     "name": "stdout",
     "output_type": "stream",
     "text": [
      "[[2.8000e+03 5.0000e+00 4.6836e+32 2.3500e-01 1.7679e+10 2.5400e-01\n",
      "  1.3687e+31 3.5588e-03 4.2950e-02 7.5302e-14]\n",
      " [3.3000e+03 5.0000e+00 6.5057e+32 3.2700e-01 2.0836e+10 2.9900e-01\n",
      "  3.6682e+31 9.5377e-03 7.0310e-02 3.9031e-14]\n",
      " [3.7000e+03 5.0000e+00 8.1787e+32 4.1100e-01 2.3362e+10 3.3600e-01\n",
      "  7.2877e+31 1.8949e-02 9.9100e-02 2.4700e-14]\n",
      " [4.4000e+03 4.5000e+00 1.1566e+33 5.8100e-01 4.9405e+10 7.1000e-01\n",
      "  6.5178e+32 1.6947e-01 2.9630e-01 1.2356e-14]\n",
      " [5.8000e+03 4.5000e+00 2.0097e+33 1.0100e+00 6.5120e+10 9.3600e-01\n",
      "  3.4194e+33 8.8908e-01 6.7880e-01 4.0904e-15]]\n"
     ]
    }
   ],
   "source": [
    "## Calculating habitable distance ranges for 5 stars\n",
    "\n",
    "import numpy as np\n",
    "fname = 'Toms_Star_Values.txt'\n",
    "a = np.loadtxt(fname, skiprows=1)\n",
    "print(a)"
   ]
  },
  {
   "cell_type": "code",
   "execution_count": 10,
   "id": "9f566c17-2ee4-45d3-9f1f-777de5680d6b",
   "metadata": {},
   "outputs": [
    {
     "name": "stdout",
     "output_type": "stream",
     "text": [
      "Habitable range for 2800K star: 4.981110e+09 < Dh < 9.298619e+09\n",
      "Habitable range for 3300K star: 8.154448e+09 < Dh < 1.522253e+10\n",
      "Habitable range for 3700K star: 1.149386e+10 < Dh < 2.145647e+10\n",
      "Habitable range for 4400K star: 3.437388e+10 < Dh < 6.416836e+10\n",
      "Habitable range for 5800K star: 8.414292e+10 < Dh < 1.570760e+11\n",
      "...where 1 astronomical unit: 1.5e+11\n",
      "..a planet around Trappist 1 would be tidally locked, with no diurnality, thus life only on one side, and high UV exposure\n",
      "5800K habitable range in au: between 0.5609527848255935 au to 1.0471735834373195 au\n"
     ]
    }
   ],
   "source": [
    "# Define parameters \n",
    "# Tplanet = equilibrium planet temperature (K) \n",
    "# Tstar = stellar temperature (K)\n",
    "# Rstar = stellar radius (m) \n",
    "# Dh = habitable distance (m) \n",
    "\n",
    "Tplanet = [273, 373] \n",
    "Tstar = [2800, 3300, 3700, 4400, 5800]\n",
    "Rstar = [1.7679e8, 2.0836e8, 2.3362e8, 4.9405e8, 6.96e8]\n",
    "\n",
    "au = 1.5e11\n",
    "\n",
    "Dh_2800K_273K = (0.25*(Rstar[0]**2)*((Tstar[0]/Tplanet[0])**4))**0.5\n",
    "Dh_2800K_373K = (0.25*(Rstar[0]**2)*((Tstar[0]/Tplanet[1])**4))**0.5\n",
    "\n",
    "Dh_3300K_273K = (0.25*(Rstar[1]**2)*((Tstar[1]/Tplanet[0])**4))**0.5\n",
    "Dh_3300K_373K = (0.25*(Rstar[1]**2)*((Tstar[1]/Tplanet[1])**4))**0.5\n",
    "\n",
    "Dh_3700K_273K = (0.25*(Rstar[2]**2)*((Tstar[2]/Tplanet[0])**4))**0.5\n",
    "Dh_3700K_373K = (0.25*(Rstar[2]**2)*((Tstar[2]/Tplanet[1])**4))**0.5\n",
    "\n",
    "Dh_4400K_273K = (0.25*(Rstar[3]**2)*((Tstar[3]/Tplanet[0])**4))**0.5\n",
    "Dh_4400K_373K = (0.25*(Rstar[3]**2)*((Tstar[3]/Tplanet[1])**4))**0.5\n",
    "\n",
    "Dh_5800K_273K = (0.25*(Rstar[4]**2)*((Tstar[4]/Tplanet[0])**4))**0.5\n",
    "Dh_5800K_373K = (0.25*(Rstar[4]**2)*((Tstar[4]/Tplanet[1])**4))**0.5\n",
    "\n",
    "print('Habitable range for 2800K star:',\"{:e}\".format(Dh_2800K_373K), '< Dh <',\"{:e}\".format(Dh_2800K_273K))\n",
    "print('Habitable range for 3300K star:',\"{:e}\".format(Dh_3300K_373K), '< Dh <',\"{:e}\".format(Dh_3300K_273K))\n",
    "print('Habitable range for 3700K star:',\"{:e}\".format(Dh_3700K_373K), '< Dh <',\"{:e}\".format(Dh_3700K_273K))\n",
    "print('Habitable range for 4400K star:',\"{:e}\".format(Dh_4400K_373K), '< Dh <',\"{:e}\".format(Dh_4400K_273K))\n",
    "print('Habitable range for 5800K star:',\"{:e}\".format(Dh_5800K_373K), '< Dh <',\"{:e}\".format(Dh_5800K_273K))\n",
    "\n",
    "print('...where 1 astronomical unit: 1.5e+11')  ##BENCHMARKING: 1 AU IS DISTANCE FROM EARTH TO SUN (AND IS CLEARLY WITHIN OUR HABITABLE RANGE)\n",
    "print('..a planet around Trappist 1 would be tidally locked, with no diurnality, thus life only on one side, and high UV exposure')\n",
    "\n",
    "print('5800K habitable range in au:','between',Dh_5800K_373K/au,'au','to',Dh_5800K_273K/au, 'au')"
   ]
  },
  {
   "cell_type": "code",
   "execution_count": 11,
   "id": "aedce206-ec89-42d1-ab2f-989dc332dba8",
   "metadata": {},
   "outputs": [
    {
     "name": "stdout",
     "output_type": "stream",
     "text": [
      "Midpoint habitable range for 2800K star: 7.139864e+09\n",
      "Midpoint habitable range for 3300K star: 1.168849e+10\n",
      "Midpoint habitable range for 3700K star: 1.647516e+10\n",
      "Midpoint habitable range for 4400K star: 4.927112e+10\n",
      "Midpoint habitable range for 5800K star: 1.206095e+11\n",
      "...where 1 astronomical unit: 1.5e+11\n"
     ]
    }
   ],
   "source": [
    "Midpoint_Dh_2800K = (\"{:e}\".format(Dh_2800K_373K+(0.5*(Dh_2800K_273K - Dh_2800K_373K))))\n",
    "Midpoint_Dh_3300K = (\"{:e}\".format(Dh_3300K_373K+(0.5*(Dh_3300K_273K - Dh_3300K_373K))))\n",
    "Midpoint_Dh_3700K = (\"{:e}\".format(Dh_3700K_373K+(0.5*(Dh_3700K_273K - Dh_3700K_373K))))\n",
    "Midpoint_Dh_4400K = (\"{:e}\".format(Dh_4400K_373K+(0.5*(Dh_4400K_273K - Dh_4400K_373K))))\n",
    "Midpoint_Dh_5800K = (\"{:e}\".format(Dh_5800K_373K+(0.5*(Dh_5800K_273K - Dh_5800K_373K))))\n",
    "\n",
    "print('Midpoint habitable range for 2800K star:', Midpoint_Dh_2800K)\n",
    "print('Midpoint habitable range for 3300K star:', Midpoint_Dh_3300K)\n",
    "print('Midpoint habitable range for 3700K star:', Midpoint_Dh_3700K)\n",
    "print('Midpoint habitable range for 4400K star:', Midpoint_Dh_4400K)\n",
    "print('Midpoint habitable range for 5800K star:', Midpoint_Dh_5800K)\n",
    "print('...where 1 astronomical unit: 1.5e+11')"
   ]
  },
  {
   "cell_type": "code",
   "execution_count": 12,
   "id": "307c5315-564e-427a-a26f-32d4a6fdb6e1",
   "metadata": {},
   "outputs": [
    {
     "name": "stdout",
     "output_type": "stream",
     "text": [
      "Distance Factor for 2800K star: 6.131059e-04\n",
      "Distance Factor for 3300K star: 3.177693e-04\n",
      "Distance Factor for 3700K star: 2.010762e-04\n",
      "Distance Factor for 4400K star: 1.005442e-04\n",
      "Distance Factor for 5800K star: 3.330086e-05\n"
     ]
    }
   ],
   "source": [
    "## Calculating fp (incident spectral flux) \n",
    "Distance_Factor_2800K = \"{:e}\".format((Rstar[0]/float(Midpoint_Dh_2800K))**2)\n",
    "Distance_Factor_3300K = \"{:e}\".format((Rstar[1]/float(Midpoint_Dh_3300K))**2)\n",
    "Distance_Factor_3700K = \"{:e}\".format((Rstar[2]/float(Midpoint_Dh_3700K))**2)\n",
    "Distance_Factor_4400K = \"{:e}\".format((Rstar[3]/float(Midpoint_Dh_4400K))**2)\n",
    "Distance_Factor_5800K = \"{:e}\".format((Rstar[4]/float(Midpoint_Dh_5800K))**2)\n",
    "\n",
    "print('Distance Factor for 2800K star:', Distance_Factor_2800K)\n",
    "print('Distance Factor for 3300K star:', Distance_Factor_3300K)\n",
    "print('Distance Factor for 3700K star:', Distance_Factor_3700K)\n",
    "print('Distance Factor for 4400K star:', Distance_Factor_4400K)\n",
    "print('Distance Factor for 5800K star:', Distance_Factor_5800K)"
   ]
  },
  {
   "cell_type": "code",
   "execution_count": null,
   "id": "e9499b6d-bb80-49ca-aa4e-d626da102fb3",
   "metadata": {},
   "outputs": [],
   "source": []
  }
 ],
 "metadata": {
  "kernelspec": {
   "display_name": "Python 3 (ipykernel)",
   "language": "python",
   "name": "python3"
  },
  "language_info": {
   "codemirror_mode": {
    "name": "ipython",
    "version": 3
   },
   "file_extension": ".py",
   "mimetype": "text/x-python",
   "name": "python",
   "nbconvert_exporter": "python",
   "pygments_lexer": "ipython3",
   "version": "3.9.12"
  }
 },
 "nbformat": 4,
 "nbformat_minor": 5
}
