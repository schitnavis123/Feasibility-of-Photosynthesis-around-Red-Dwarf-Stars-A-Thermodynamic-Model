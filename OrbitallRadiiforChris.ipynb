{
 "cells": [
  {
   "cell_type": "code",
   "execution_count": 1,
   "id": "b86f8092-0398-4c43-881c-20e1493ab5a7",
   "metadata": {},
   "outputs": [
    {
     "name": "stdout",
     "output_type": "stream",
     "text": [
      "Habitable range for 2800K star: 9.962219e+09 < Dh < 1.859724e+10\n",
      "Habitable range for 3300K star: 1.630890e+10 < Dh < 3.044507e+10\n",
      "Habitable range for 3700K star: 2.298771e+10 < Dh < 4.291293e+10\n",
      "Habitable range for 4400K star: 6.874777e+10 < Dh < 1.283367e+11\n",
      "Habitable range for 5800K star: 1.682858e+11 < Dh < 3.141521e+11\n",
      "...where 1 astronomical unit: 1.5e+11\n"
     ]
    }
   ],
   "source": [
    "# Define parameters \n",
    "# Tplanet = equilibrium planet temperature (K) \n",
    "# Tstar = stellar temperature (K)\n",
    "# Rstar = stellar radius (m) \n",
    "# Dh = habitable distance (m) \n",
    "\n",
    "Tplanet = [273, 373] \n",
    "Tstar = [2800, 3300, 3700, 4400, 5800]\n",
    "Rstar = [1.7679e8, 2.0836e8, 2.3362e8, 4.9405e8, 6.96e8]\n",
    "\n",
    "\n",
    "Dh_2800K_273K = ((Rstar[0]**2)*((Tstar[0]/Tplanet[0])**4))**0.5\n",
    "Dh_2800K_373K = ((Rstar[0]**2)*((Tstar[0]/Tplanet[1])**4))**0.5\n",
    "\n",
    "Dh_3300K_273K = ((Rstar[1]**2)*((Tstar[1]/Tplanet[0])**4))**0.5\n",
    "Dh_3300K_373K = ((Rstar[1]**2)*((Tstar[1]/Tplanet[1])**4))**0.5\n",
    "\n",
    "Dh_3700K_273K = ((Rstar[2]**2)*((Tstar[2]/Tplanet[0])**4))**0.5\n",
    "Dh_3700K_373K = ((Rstar[2]**2)*((Tstar[2]/Tplanet[1])**4))**0.5\n",
    "\n",
    "Dh_4400K_273K = ((Rstar[3]**2)*((Tstar[3]/Tplanet[0])**4))**0.5\n",
    "Dh_4400K_373K = ((Rstar[3]**2)*((Tstar[3]/Tplanet[1])**4))**0.5\n",
    "\n",
    "Dh_5800K_273K = ((Rstar[4]**2)*((Tstar[4]/Tplanet[0])**4))**0.5\n",
    "Dh_5800K_373K = ((Rstar[4]**2)*((Tstar[4]/Tplanet[1])**4))**0.5\n",
    "\n",
    "print('Habitable range for 2800K star:',\"{:e}\".format(Dh_2800K_373K), '< Dh <',\"{:e}\".format(Dh_2800K_273K))\n",
    "print('Habitable range for 3300K star:',\"{:e}\".format(Dh_3300K_373K), '< Dh <',\"{:e}\".format(Dh_3300K_273K))\n",
    "print('Habitable range for 3700K star:',\"{:e}\".format(Dh_3700K_373K), '< Dh <',\"{:e}\".format(Dh_3700K_273K))\n",
    "print('Habitable range for 4400K star:',\"{:e}\".format(Dh_4400K_373K), '< Dh <',\"{:e}\".format(Dh_4400K_273K))\n",
    "print('Habitable range for 5800K star:',\"{:e}\".format(Dh_5800K_373K), '< Dh <',\"{:e}\".format(Dh_5800K_273K)) \n",
    "print('...where 1 astronomical unit: 1.5e+11')  ##BENCHMARKING: 1 AU IS DISTANCE FROM EARTH TO SUN \n",
    "\n",
    "#print('..a planet around Trappist 1 would be tidally locked, with no diurnality, thus life only on one side, and high UV exposure')"
   ]
  },
  {
   "cell_type": "code",
   "execution_count": null,
   "id": "a1f73bb1-b6d6-4696-b5e8-5d1f0db7b819",
   "metadata": {},
   "outputs": [],
   "source": []
  }
 ],
 "metadata": {
  "kernelspec": {
   "display_name": "Python 3 (ipykernel)",
   "language": "python",
   "name": "python3"
  },
  "language_info": {
   "codemirror_mode": {
    "name": "ipython",
    "version": 3
   },
   "file_extension": ".py",
   "mimetype": "text/x-python",
   "name": "python",
   "nbconvert_exporter": "python",
   "pygments_lexer": "ipython3",
   "version": "3.9.12"
  }
 },
 "nbformat": 4,
 "nbformat_minor": 5
}
